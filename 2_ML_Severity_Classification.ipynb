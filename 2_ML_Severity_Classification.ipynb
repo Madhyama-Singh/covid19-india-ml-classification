{
  "nbformat": 4,
  "nbformat_minor": 0,
  "metadata": {
    "colab": {
      "provenance": [],
      "include_colab_link": true
    },
    "kernelspec": {
      "name": "python3",
      "display_name": "Python 3"
    },
    "language_info": {
      "name": "python"
    }
  },
  "cells": [
    {
      "cell_type": "markdown",
      "metadata": {
        "id": "view-in-github",
        "colab_type": "text"
      },
      "source": [
        "<a href=\"https://colab.research.google.com/github/Madhyama-Singh/covid19-india-ml-classification/blob/main/2_ML_Severity_Classification.ipynb\" target=\"_parent\"><img src=\"https://colab.research.google.com/assets/colab-badge.svg\" alt=\"Open In Colab\"/></a>"
      ]
    },
    {
      "cell_type": "markdown",
      "source": [
        "# OBJECTIVE 2:"
      ],
      "metadata": {
        "id": "sOixZ03ews2W"
      }
    },
    {
      "cell_type": "markdown",
      "source": [
        "* Objective:\n",
        "The goal was to classify Indian states/UTs based on Covid-19 severity levels (Low, Medium, High) using machine learning models.\n",
        "The models used were Naive Bayes and K-Nearest Neighbors (KNN, k=5).\n",
        "\n",
        "* Dataset contains 36 rows and 9 columns"
      ],
      "metadata": {
        "id": "QtUM3cwKJgeP"
      }
    },
    {
      "cell_type": "markdown",
      "source": [
        "# DATA PREPROCESING:"
      ],
      "metadata": {
        "id": "fllNBpex4y61"
      }
    },
    {
      "cell_type": "markdown",
      "source": [
        "##IMPORTING LIBRARIES"
      ],
      "metadata": {
        "id": "JaDLZRfH48ay"
      }
    },
    {
      "cell_type": "code",
      "execution_count": null,
      "metadata": {
        "id": "3C3jbC5f4nWR"
      },
      "outputs": [],
      "source": [
        "import numpy as np\n",
        "import pandas as pd\n",
        "import matplotlib.pyplot as plt"
      ]
    },
    {
      "cell_type": "code",
      "source": [
        "file_path = \"/content/Latest Covid-19 India Status.csv\"\n",
        "df = pd.read_csv(file_path)\n",
        "\n",
        "# Display the first few rows\n",
        "df.head()"
      ],
      "metadata": {
        "colab": {
          "base_uri": "https://localhost:8080/",
          "height": 206
        },
        "id": "WcUWPGbv5dUZ",
        "outputId": "deb8bbdf-5c4c-4e65-a2dc-d36a5420dc4f"
      },
      "execution_count": null,
      "outputs": [
        {
          "output_type": "execute_result",
          "data": {
            "text/plain": [
              "             State/UTs  Total Cases  Active  Discharged  Deaths  Active Ratio  \\\n",
              "0  Andaman and Nicobar        10502      40       10333     129          0.38   \n",
              "1       Andhra Pradesh      2333710    1453     2317524   14733          0.06   \n",
              "2    Arunachal Pradesh        66246     295       65655     296          0.45   \n",
              "3                Assam       741541    4006      729513    8022          0.54   \n",
              "4                Bihar       844997    1024      831688   12285          0.12   \n",
              "\n",
              "   Discharge Ratio  Death Ratio  Population  \n",
              "0            98.39         1.23   100896618  \n",
              "1            99.31         0.63   128500364  \n",
              "2            99.11         0.45      658019  \n",
              "3            98.38         1.08      290492  \n",
              "4            98.42         1.45    40100376  "
            ],
            "text/html": [
              "\n",
              "  <div id=\"df-c30a0439-17a5-4fa6-9747-06bc84f76d6e\" class=\"colab-df-container\">\n",
              "    <div>\n",
              "<style scoped>\n",
              "    .dataframe tbody tr th:only-of-type {\n",
              "        vertical-align: middle;\n",
              "    }\n",
              "\n",
              "    .dataframe tbody tr th {\n",
              "        vertical-align: top;\n",
              "    }\n",
              "\n",
              "    .dataframe thead th {\n",
              "        text-align: right;\n",
              "    }\n",
              "</style>\n",
              "<table border=\"1\" class=\"dataframe\">\n",
              "  <thead>\n",
              "    <tr style=\"text-align: right;\">\n",
              "      <th></th>\n",
              "      <th>State/UTs</th>\n",
              "      <th>Total Cases</th>\n",
              "      <th>Active</th>\n",
              "      <th>Discharged</th>\n",
              "      <th>Deaths</th>\n",
              "      <th>Active Ratio</th>\n",
              "      <th>Discharge Ratio</th>\n",
              "      <th>Death Ratio</th>\n",
              "      <th>Population</th>\n",
              "    </tr>\n",
              "  </thead>\n",
              "  <tbody>\n",
              "    <tr>\n",
              "      <th>0</th>\n",
              "      <td>Andaman and Nicobar</td>\n",
              "      <td>10502</td>\n",
              "      <td>40</td>\n",
              "      <td>10333</td>\n",
              "      <td>129</td>\n",
              "      <td>0.38</td>\n",
              "      <td>98.39</td>\n",
              "      <td>1.23</td>\n",
              "      <td>100896618</td>\n",
              "    </tr>\n",
              "    <tr>\n",
              "      <th>1</th>\n",
              "      <td>Andhra Pradesh</td>\n",
              "      <td>2333710</td>\n",
              "      <td>1453</td>\n",
              "      <td>2317524</td>\n",
              "      <td>14733</td>\n",
              "      <td>0.06</td>\n",
              "      <td>99.31</td>\n",
              "      <td>0.63</td>\n",
              "      <td>128500364</td>\n",
              "    </tr>\n",
              "    <tr>\n",
              "      <th>2</th>\n",
              "      <td>Arunachal Pradesh</td>\n",
              "      <td>66246</td>\n",
              "      <td>295</td>\n",
              "      <td>65655</td>\n",
              "      <td>296</td>\n",
              "      <td>0.45</td>\n",
              "      <td>99.11</td>\n",
              "      <td>0.45</td>\n",
              "      <td>658019</td>\n",
              "    </tr>\n",
              "    <tr>\n",
              "      <th>3</th>\n",
              "      <td>Assam</td>\n",
              "      <td>741541</td>\n",
              "      <td>4006</td>\n",
              "      <td>729513</td>\n",
              "      <td>8022</td>\n",
              "      <td>0.54</td>\n",
              "      <td>98.38</td>\n",
              "      <td>1.08</td>\n",
              "      <td>290492</td>\n",
              "    </tr>\n",
              "    <tr>\n",
              "      <th>4</th>\n",
              "      <td>Bihar</td>\n",
              "      <td>844997</td>\n",
              "      <td>1024</td>\n",
              "      <td>831688</td>\n",
              "      <td>12285</td>\n",
              "      <td>0.12</td>\n",
              "      <td>98.42</td>\n",
              "      <td>1.45</td>\n",
              "      <td>40100376</td>\n",
              "    </tr>\n",
              "  </tbody>\n",
              "</table>\n",
              "</div>\n",
              "    <div class=\"colab-df-buttons\">\n",
              "\n",
              "  <div class=\"colab-df-container\">\n",
              "    <button class=\"colab-df-convert\" onclick=\"convertToInteractive('df-c30a0439-17a5-4fa6-9747-06bc84f76d6e')\"\n",
              "            title=\"Convert this dataframe to an interactive table.\"\n",
              "            style=\"display:none;\">\n",
              "\n",
              "  <svg xmlns=\"http://www.w3.org/2000/svg\" height=\"24px\" viewBox=\"0 -960 960 960\">\n",
              "    <path d=\"M120-120v-720h720v720H120Zm60-500h600v-160H180v160Zm220 220h160v-160H400v160Zm0 220h160v-160H400v160ZM180-400h160v-160H180v160Zm440 0h160v-160H620v160ZM180-180h160v-160H180v160Zm440 0h160v-160H620v160Z\"/>\n",
              "  </svg>\n",
              "    </button>\n",
              "\n",
              "  <style>\n",
              "    .colab-df-container {\n",
              "      display:flex;\n",
              "      gap: 12px;\n",
              "    }\n",
              "\n",
              "    .colab-df-convert {\n",
              "      background-color: #E8F0FE;\n",
              "      border: none;\n",
              "      border-radius: 50%;\n",
              "      cursor: pointer;\n",
              "      display: none;\n",
              "      fill: #1967D2;\n",
              "      height: 32px;\n",
              "      padding: 0 0 0 0;\n",
              "      width: 32px;\n",
              "    }\n",
              "\n",
              "    .colab-df-convert:hover {\n",
              "      background-color: #E2EBFA;\n",
              "      box-shadow: 0px 1px 2px rgba(60, 64, 67, 0.3), 0px 1px 3px 1px rgba(60, 64, 67, 0.15);\n",
              "      fill: #174EA6;\n",
              "    }\n",
              "\n",
              "    .colab-df-buttons div {\n",
              "      margin-bottom: 4px;\n",
              "    }\n",
              "\n",
              "    [theme=dark] .colab-df-convert {\n",
              "      background-color: #3B4455;\n",
              "      fill: #D2E3FC;\n",
              "    }\n",
              "\n",
              "    [theme=dark] .colab-df-convert:hover {\n",
              "      background-color: #434B5C;\n",
              "      box-shadow: 0px 1px 3px 1px rgba(0, 0, 0, 0.15);\n",
              "      filter: drop-shadow(0px 1px 2px rgba(0, 0, 0, 0.3));\n",
              "      fill: #FFFFFF;\n",
              "    }\n",
              "  </style>\n",
              "\n",
              "    <script>\n",
              "      const buttonEl =\n",
              "        document.querySelector('#df-c30a0439-17a5-4fa6-9747-06bc84f76d6e button.colab-df-convert');\n",
              "      buttonEl.style.display =\n",
              "        google.colab.kernel.accessAllowed ? 'block' : 'none';\n",
              "\n",
              "      async function convertToInteractive(key) {\n",
              "        const element = document.querySelector('#df-c30a0439-17a5-4fa6-9747-06bc84f76d6e');\n",
              "        const dataTable =\n",
              "          await google.colab.kernel.invokeFunction('convertToInteractive',\n",
              "                                                    [key], {});\n",
              "        if (!dataTable) return;\n",
              "\n",
              "        const docLinkHtml = 'Like what you see? Visit the ' +\n",
              "          '<a target=\"_blank\" href=https://colab.research.google.com/notebooks/data_table.ipynb>data table notebook</a>'\n",
              "          + ' to learn more about interactive tables.';\n",
              "        element.innerHTML = '';\n",
              "        dataTable['output_type'] = 'display_data';\n",
              "        await google.colab.output.renderOutput(dataTable, element);\n",
              "        const docLink = document.createElement('div');\n",
              "        docLink.innerHTML = docLinkHtml;\n",
              "        element.appendChild(docLink);\n",
              "      }\n",
              "    </script>\n",
              "  </div>\n",
              "\n",
              "\n",
              "<div id=\"df-da03df7a-b5fa-401d-958c-387c500239d4\">\n",
              "  <button class=\"colab-df-quickchart\" onclick=\"quickchart('df-da03df7a-b5fa-401d-958c-387c500239d4')\"\n",
              "            title=\"Suggest charts\"\n",
              "            style=\"display:none;\">\n",
              "\n",
              "<svg xmlns=\"http://www.w3.org/2000/svg\" height=\"24px\"viewBox=\"0 0 24 24\"\n",
              "     width=\"24px\">\n",
              "    <g>\n",
              "        <path d=\"M19 3H5c-1.1 0-2 .9-2 2v14c0 1.1.9 2 2 2h14c1.1 0 2-.9 2-2V5c0-1.1-.9-2-2-2zM9 17H7v-7h2v7zm4 0h-2V7h2v10zm4 0h-2v-4h2v4z\"/>\n",
              "    </g>\n",
              "</svg>\n",
              "  </button>\n",
              "\n",
              "<style>\n",
              "  .colab-df-quickchart {\n",
              "      --bg-color: #E8F0FE;\n",
              "      --fill-color: #1967D2;\n",
              "      --hover-bg-color: #E2EBFA;\n",
              "      --hover-fill-color: #174EA6;\n",
              "      --disabled-fill-color: #AAA;\n",
              "      --disabled-bg-color: #DDD;\n",
              "  }\n",
              "\n",
              "  [theme=dark] .colab-df-quickchart {\n",
              "      --bg-color: #3B4455;\n",
              "      --fill-color: #D2E3FC;\n",
              "      --hover-bg-color: #434B5C;\n",
              "      --hover-fill-color: #FFFFFF;\n",
              "      --disabled-bg-color: #3B4455;\n",
              "      --disabled-fill-color: #666;\n",
              "  }\n",
              "\n",
              "  .colab-df-quickchart {\n",
              "    background-color: var(--bg-color);\n",
              "    border: none;\n",
              "    border-radius: 50%;\n",
              "    cursor: pointer;\n",
              "    display: none;\n",
              "    fill: var(--fill-color);\n",
              "    height: 32px;\n",
              "    padding: 0;\n",
              "    width: 32px;\n",
              "  }\n",
              "\n",
              "  .colab-df-quickchart:hover {\n",
              "    background-color: var(--hover-bg-color);\n",
              "    box-shadow: 0 1px 2px rgba(60, 64, 67, 0.3), 0 1px 3px 1px rgba(60, 64, 67, 0.15);\n",
              "    fill: var(--button-hover-fill-color);\n",
              "  }\n",
              "\n",
              "  .colab-df-quickchart-complete:disabled,\n",
              "  .colab-df-quickchart-complete:disabled:hover {\n",
              "    background-color: var(--disabled-bg-color);\n",
              "    fill: var(--disabled-fill-color);\n",
              "    box-shadow: none;\n",
              "  }\n",
              "\n",
              "  .colab-df-spinner {\n",
              "    border: 2px solid var(--fill-color);\n",
              "    border-color: transparent;\n",
              "    border-bottom-color: var(--fill-color);\n",
              "    animation:\n",
              "      spin 1s steps(1) infinite;\n",
              "  }\n",
              "\n",
              "  @keyframes spin {\n",
              "    0% {\n",
              "      border-color: transparent;\n",
              "      border-bottom-color: var(--fill-color);\n",
              "      border-left-color: var(--fill-color);\n",
              "    }\n",
              "    20% {\n",
              "      border-color: transparent;\n",
              "      border-left-color: var(--fill-color);\n",
              "      border-top-color: var(--fill-color);\n",
              "    }\n",
              "    30% {\n",
              "      border-color: transparent;\n",
              "      border-left-color: var(--fill-color);\n",
              "      border-top-color: var(--fill-color);\n",
              "      border-right-color: var(--fill-color);\n",
              "    }\n",
              "    40% {\n",
              "      border-color: transparent;\n",
              "      border-right-color: var(--fill-color);\n",
              "      border-top-color: var(--fill-color);\n",
              "    }\n",
              "    60% {\n",
              "      border-color: transparent;\n",
              "      border-right-color: var(--fill-color);\n",
              "    }\n",
              "    80% {\n",
              "      border-color: transparent;\n",
              "      border-right-color: var(--fill-color);\n",
              "      border-bottom-color: var(--fill-color);\n",
              "    }\n",
              "    90% {\n",
              "      border-color: transparent;\n",
              "      border-bottom-color: var(--fill-color);\n",
              "    }\n",
              "  }\n",
              "</style>\n",
              "\n",
              "  <script>\n",
              "    async function quickchart(key) {\n",
              "      const quickchartButtonEl =\n",
              "        document.querySelector('#' + key + ' button');\n",
              "      quickchartButtonEl.disabled = true;  // To prevent multiple clicks.\n",
              "      quickchartButtonEl.classList.add('colab-df-spinner');\n",
              "      try {\n",
              "        const charts = await google.colab.kernel.invokeFunction(\n",
              "            'suggestCharts', [key], {});\n",
              "      } catch (error) {\n",
              "        console.error('Error during call to suggestCharts:', error);\n",
              "      }\n",
              "      quickchartButtonEl.classList.remove('colab-df-spinner');\n",
              "      quickchartButtonEl.classList.add('colab-df-quickchart-complete');\n",
              "    }\n",
              "    (() => {\n",
              "      let quickchartButtonEl =\n",
              "        document.querySelector('#df-da03df7a-b5fa-401d-958c-387c500239d4 button');\n",
              "      quickchartButtonEl.style.display =\n",
              "        google.colab.kernel.accessAllowed ? 'block' : 'none';\n",
              "    })();\n",
              "  </script>\n",
              "</div>\n",
              "\n",
              "    </div>\n",
              "  </div>\n"
            ],
            "application/vnd.google.colaboratory.intrinsic+json": {
              "type": "dataframe",
              "variable_name": "df",
              "summary": "{\n  \"name\": \"df\",\n  \"rows\": 36,\n  \"fields\": [\n    {\n      \"column\": \"State/UTs\",\n      \"properties\": {\n        \"dtype\": \"string\",\n        \"num_unique_values\": 36,\n        \"samples\": [\n          \"West Bengal\",\n          \"Jammu and Kashmir\",\n          \"Puducherry\"\n        ],\n        \"semantic_type\": \"\",\n        \"description\": \"\"\n      }\n    },\n    {\n      \"column\": \"Total Cases\",\n      \"properties\": {\n        \"dtype\": \"number\",\n        \"std\": 1813337,\n        \"min\": 10502,\n        \"max\": 8060737,\n        \"num_unique_values\": 36,\n        \"samples\": [\n          2099433,\n          470201,\n          171651\n        ],\n        \"semantic_type\": \"\",\n        \"description\": \"\"\n      }\n    },\n    {\n      \"column\": \"Active\",\n      \"properties\": {\n        \"dtype\": \"number\",\n        \"std\": 3786,\n        \"min\": 0,\n        \"max\": 12429,\n        \"num_unique_values\": 36,\n        \"samples\": [\n          7302,\n          5045,\n          640\n        ],\n        \"semantic_type\": \"\",\n        \"description\": \"\"\n      }\n    },\n    {\n      \"column\": \"Discharged\",\n      \"properties\": {\n        \"dtype\": \"number\",\n        \"std\": 1784934,\n        \"min\": 10333,\n        \"max\": 7900626,\n        \"num_unique_values\": 36,\n        \"samples\": [\n          2070731,\n          460380,\n          169044\n        ],\n        \"semantic_type\": \"\",\n        \"description\": \"\"\n      }\n    },\n    {\n      \"column\": \"Deaths\",\n      \"properties\": {\n        \"dtype\": \"number\",\n        \"std\": 27063,\n        \"min\": 4,\n        \"max\": 148143,\n        \"num_unique_values\": 36,\n        \"samples\": [\n          21400,\n          4776,\n          1967\n        ],\n        \"semantic_type\": \"\",\n        \"description\": \"\"\n      }\n    },\n    {\n      \"column\": \"Active Ratio\",\n      \"properties\": {\n        \"dtype\": \"number\",\n        \"std\": 0.37794137447451104,\n        \"min\": 0.0,\n        \"max\": 1.61,\n        \"num_unique_values\": 29,\n        \"samples\": [\n          0.53,\n          0.13,\n          1.07\n        ],\n        \"semantic_type\": \"\",\n        \"description\": \"\"\n      }\n    },\n    {\n      \"column\": \"Discharge Ratio\",\n      \"properties\": {\n        \"dtype\": \"number\",\n        \"std\": 0.687435999907085,\n        \"min\": 96.11,\n        \"max\": 99.77,\n        \"num_unique_values\": 33,\n        \"samples\": [\n          97.73,\n          98.72,\n          96.11\n        ],\n        \"semantic_type\": \"\",\n        \"description\": \"\"\n      }\n    },\n    {\n      \"column\": \"Death Ratio\",\n      \"properties\": {\n        \"dtype\": \"number\",\n        \"std\": 0.4840500433265599,\n        \"min\": 0.03,\n        \"max\": 2.29,\n        \"num_unique_values\": 32,\n        \"samples\": [\n          0.5,\n          1.05,\n          1.15\n        ],\n        \"semantic_type\": \"\",\n        \"description\": \"\"\n      }\n    },\n    {\n      \"column\": \"Population\",\n      \"properties\": {\n        \"dtype\": \"number\",\n        \"std\": 50509132,\n        \"min\": 66001,\n        \"max\": 231502578,\n        \"num_unique_values\": 36,\n        \"samples\": [\n          32199722,\n          66001,\n          2073074\n        ],\n        \"semantic_type\": \"\",\n        \"description\": \"\"\n      }\n    }\n  ]\n}"
            }
          },
          "metadata": {},
          "execution_count": 2
        }
      ]
    },
    {
      "cell_type": "code",
      "source": [
        "df.info()"
      ],
      "metadata": {
        "colab": {
          "base_uri": "https://localhost:8080/"
        },
        "id": "6Idu5MKO9ZKO",
        "outputId": "13a296f9-ef13-435c-d213-f440386fe2af"
      },
      "execution_count": null,
      "outputs": [
        {
          "output_type": "stream",
          "name": "stdout",
          "text": [
            "<class 'pandas.core.frame.DataFrame'>\n",
            "RangeIndex: 36 entries, 0 to 35\n",
            "Data columns (total 9 columns):\n",
            " #   Column           Non-Null Count  Dtype  \n",
            "---  ------           --------------  -----  \n",
            " 0   State/UTs        36 non-null     object \n",
            " 1   Total Cases      36 non-null     int64  \n",
            " 2   Active           36 non-null     int64  \n",
            " 3   Discharged       36 non-null     int64  \n",
            " 4   Deaths           36 non-null     int64  \n",
            " 5   Active Ratio     36 non-null     float64\n",
            " 6   Discharge Ratio  36 non-null     float64\n",
            " 7   Death Ratio      36 non-null     float64\n",
            " 8   Population       36 non-null     int64  \n",
            "dtypes: float64(3), int64(5), object(1)\n",
            "memory usage: 2.7+ KB\n"
          ]
        }
      ]
    },
    {
      "cell_type": "code",
      "source": [
        "df.describe()"
      ],
      "metadata": {
        "colab": {
          "base_uri": "https://localhost:8080/",
          "height": 300
        },
        "id": "dm8T4AQNBiX6",
        "outputId": "738f1a35-cd1e-4a4c-dacb-e72a0529e986"
      },
      "execution_count": null,
      "outputs": [
        {
          "output_type": "execute_result",
          "data": {
            "text/plain": [
              "        Total Cases        Active    Discharged         Deaths  Active Ratio  \\\n",
              "count  3.600000e+01     36.000000  3.600000e+01      36.000000     36.000000   \n",
              "mean   1.227074e+06   3661.305556  1.208780e+06   14632.555556      0.460556   \n",
              "std    1.813338e+06   3786.588859  1.784934e+06   27063.901871      0.377941   \n",
              "min    1.050200e+04      0.000000  1.033300e+04       4.000000      0.000000   \n",
              "25%    1.049248e+05    649.750000  1.032480e+05    1112.000000      0.197500   \n",
              "50%    6.058710e+05   1915.500000  5.949465e+05    6523.500000      0.380000   \n",
              "75%    1.303242e+06   5713.000000  1.289440e+06   14244.000000      0.532500   \n",
              "max    8.060737e+06  12429.000000  7.900626e+06  148143.000000      1.610000   \n",
              "\n",
              "       Discharge Ratio  Death Ratio    Population  \n",
              "count        36.000000    36.000000  3.600000e+01  \n",
              "mean         98.435556     1.103889  3.971861e+07  \n",
              "std           0.687436     0.484050  5.050913e+07  \n",
              "min          96.110000     0.030000  6.600100e+04  \n",
              "25%          98.047500     0.850000  1.695473e+06  \n",
              "50%          98.525000     1.075000  2.410088e+07  \n",
              "75%          98.812500     1.347500  6.979986e+07  \n",
              "max          99.770000     2.290000  2.315026e+08  "
            ],
            "text/html": [
              "\n",
              "  <div id=\"df-1a16ffe6-4b8f-4268-bd2b-70639ef3cdb6\" class=\"colab-df-container\">\n",
              "    <div>\n",
              "<style scoped>\n",
              "    .dataframe tbody tr th:only-of-type {\n",
              "        vertical-align: middle;\n",
              "    }\n",
              "\n",
              "    .dataframe tbody tr th {\n",
              "        vertical-align: top;\n",
              "    }\n",
              "\n",
              "    .dataframe thead th {\n",
              "        text-align: right;\n",
              "    }\n",
              "</style>\n",
              "<table border=\"1\" class=\"dataframe\">\n",
              "  <thead>\n",
              "    <tr style=\"text-align: right;\">\n",
              "      <th></th>\n",
              "      <th>Total Cases</th>\n",
              "      <th>Active</th>\n",
              "      <th>Discharged</th>\n",
              "      <th>Deaths</th>\n",
              "      <th>Active Ratio</th>\n",
              "      <th>Discharge Ratio</th>\n",
              "      <th>Death Ratio</th>\n",
              "      <th>Population</th>\n",
              "    </tr>\n",
              "  </thead>\n",
              "  <tbody>\n",
              "    <tr>\n",
              "      <th>count</th>\n",
              "      <td>3.600000e+01</td>\n",
              "      <td>36.000000</td>\n",
              "      <td>3.600000e+01</td>\n",
              "      <td>36.000000</td>\n",
              "      <td>36.000000</td>\n",
              "      <td>36.000000</td>\n",
              "      <td>36.000000</td>\n",
              "      <td>3.600000e+01</td>\n",
              "    </tr>\n",
              "    <tr>\n",
              "      <th>mean</th>\n",
              "      <td>1.227074e+06</td>\n",
              "      <td>3661.305556</td>\n",
              "      <td>1.208780e+06</td>\n",
              "      <td>14632.555556</td>\n",
              "      <td>0.460556</td>\n",
              "      <td>98.435556</td>\n",
              "      <td>1.103889</td>\n",
              "      <td>3.971861e+07</td>\n",
              "    </tr>\n",
              "    <tr>\n",
              "      <th>std</th>\n",
              "      <td>1.813338e+06</td>\n",
              "      <td>3786.588859</td>\n",
              "      <td>1.784934e+06</td>\n",
              "      <td>27063.901871</td>\n",
              "      <td>0.377941</td>\n",
              "      <td>0.687436</td>\n",
              "      <td>0.484050</td>\n",
              "      <td>5.050913e+07</td>\n",
              "    </tr>\n",
              "    <tr>\n",
              "      <th>min</th>\n",
              "      <td>1.050200e+04</td>\n",
              "      <td>0.000000</td>\n",
              "      <td>1.033300e+04</td>\n",
              "      <td>4.000000</td>\n",
              "      <td>0.000000</td>\n",
              "      <td>96.110000</td>\n",
              "      <td>0.030000</td>\n",
              "      <td>6.600100e+04</td>\n",
              "    </tr>\n",
              "    <tr>\n",
              "      <th>25%</th>\n",
              "      <td>1.049248e+05</td>\n",
              "      <td>649.750000</td>\n",
              "      <td>1.032480e+05</td>\n",
              "      <td>1112.000000</td>\n",
              "      <td>0.197500</td>\n",
              "      <td>98.047500</td>\n",
              "      <td>0.850000</td>\n",
              "      <td>1.695473e+06</td>\n",
              "    </tr>\n",
              "    <tr>\n",
              "      <th>50%</th>\n",
              "      <td>6.058710e+05</td>\n",
              "      <td>1915.500000</td>\n",
              "      <td>5.949465e+05</td>\n",
              "      <td>6523.500000</td>\n",
              "      <td>0.380000</td>\n",
              "      <td>98.525000</td>\n",
              "      <td>1.075000</td>\n",
              "      <td>2.410088e+07</td>\n",
              "    </tr>\n",
              "    <tr>\n",
              "      <th>75%</th>\n",
              "      <td>1.303242e+06</td>\n",
              "      <td>5713.000000</td>\n",
              "      <td>1.289440e+06</td>\n",
              "      <td>14244.000000</td>\n",
              "      <td>0.532500</td>\n",
              "      <td>98.812500</td>\n",
              "      <td>1.347500</td>\n",
              "      <td>6.979986e+07</td>\n",
              "    </tr>\n",
              "    <tr>\n",
              "      <th>max</th>\n",
              "      <td>8.060737e+06</td>\n",
              "      <td>12429.000000</td>\n",
              "      <td>7.900626e+06</td>\n",
              "      <td>148143.000000</td>\n",
              "      <td>1.610000</td>\n",
              "      <td>99.770000</td>\n",
              "      <td>2.290000</td>\n",
              "      <td>2.315026e+08</td>\n",
              "    </tr>\n",
              "  </tbody>\n",
              "</table>\n",
              "</div>\n",
              "    <div class=\"colab-df-buttons\">\n",
              "\n",
              "  <div class=\"colab-df-container\">\n",
              "    <button class=\"colab-df-convert\" onclick=\"convertToInteractive('df-1a16ffe6-4b8f-4268-bd2b-70639ef3cdb6')\"\n",
              "            title=\"Convert this dataframe to an interactive table.\"\n",
              "            style=\"display:none;\">\n",
              "\n",
              "  <svg xmlns=\"http://www.w3.org/2000/svg\" height=\"24px\" viewBox=\"0 -960 960 960\">\n",
              "    <path d=\"M120-120v-720h720v720H120Zm60-500h600v-160H180v160Zm220 220h160v-160H400v160Zm0 220h160v-160H400v160ZM180-400h160v-160H180v160Zm440 0h160v-160H620v160ZM180-180h160v-160H180v160Zm440 0h160v-160H620v160Z\"/>\n",
              "  </svg>\n",
              "    </button>\n",
              "\n",
              "  <style>\n",
              "    .colab-df-container {\n",
              "      display:flex;\n",
              "      gap: 12px;\n",
              "    }\n",
              "\n",
              "    .colab-df-convert {\n",
              "      background-color: #E8F0FE;\n",
              "      border: none;\n",
              "      border-radius: 50%;\n",
              "      cursor: pointer;\n",
              "      display: none;\n",
              "      fill: #1967D2;\n",
              "      height: 32px;\n",
              "      padding: 0 0 0 0;\n",
              "      width: 32px;\n",
              "    }\n",
              "\n",
              "    .colab-df-convert:hover {\n",
              "      background-color: #E2EBFA;\n",
              "      box-shadow: 0px 1px 2px rgba(60, 64, 67, 0.3), 0px 1px 3px 1px rgba(60, 64, 67, 0.15);\n",
              "      fill: #174EA6;\n",
              "    }\n",
              "\n",
              "    .colab-df-buttons div {\n",
              "      margin-bottom: 4px;\n",
              "    }\n",
              "\n",
              "    [theme=dark] .colab-df-convert {\n",
              "      background-color: #3B4455;\n",
              "      fill: #D2E3FC;\n",
              "    }\n",
              "\n",
              "    [theme=dark] .colab-df-convert:hover {\n",
              "      background-color: #434B5C;\n",
              "      box-shadow: 0px 1px 3px 1px rgba(0, 0, 0, 0.15);\n",
              "      filter: drop-shadow(0px 1px 2px rgba(0, 0, 0, 0.3));\n",
              "      fill: #FFFFFF;\n",
              "    }\n",
              "  </style>\n",
              "\n",
              "    <script>\n",
              "      const buttonEl =\n",
              "        document.querySelector('#df-1a16ffe6-4b8f-4268-bd2b-70639ef3cdb6 button.colab-df-convert');\n",
              "      buttonEl.style.display =\n",
              "        google.colab.kernel.accessAllowed ? 'block' : 'none';\n",
              "\n",
              "      async function convertToInteractive(key) {\n",
              "        const element = document.querySelector('#df-1a16ffe6-4b8f-4268-bd2b-70639ef3cdb6');\n",
              "        const dataTable =\n",
              "          await google.colab.kernel.invokeFunction('convertToInteractive',\n",
              "                                                    [key], {});\n",
              "        if (!dataTable) return;\n",
              "\n",
              "        const docLinkHtml = 'Like what you see? Visit the ' +\n",
              "          '<a target=\"_blank\" href=https://colab.research.google.com/notebooks/data_table.ipynb>data table notebook</a>'\n",
              "          + ' to learn more about interactive tables.';\n",
              "        element.innerHTML = '';\n",
              "        dataTable['output_type'] = 'display_data';\n",
              "        await google.colab.output.renderOutput(dataTable, element);\n",
              "        const docLink = document.createElement('div');\n",
              "        docLink.innerHTML = docLinkHtml;\n",
              "        element.appendChild(docLink);\n",
              "      }\n",
              "    </script>\n",
              "  </div>\n",
              "\n",
              "\n",
              "<div id=\"df-7d73b9aa-e7f3-4f96-8b1a-76d5c989c3a9\">\n",
              "  <button class=\"colab-df-quickchart\" onclick=\"quickchart('df-7d73b9aa-e7f3-4f96-8b1a-76d5c989c3a9')\"\n",
              "            title=\"Suggest charts\"\n",
              "            style=\"display:none;\">\n",
              "\n",
              "<svg xmlns=\"http://www.w3.org/2000/svg\" height=\"24px\"viewBox=\"0 0 24 24\"\n",
              "     width=\"24px\">\n",
              "    <g>\n",
              "        <path d=\"M19 3H5c-1.1 0-2 .9-2 2v14c0 1.1.9 2 2 2h14c1.1 0 2-.9 2-2V5c0-1.1-.9-2-2-2zM9 17H7v-7h2v7zm4 0h-2V7h2v10zm4 0h-2v-4h2v4z\"/>\n",
              "    </g>\n",
              "</svg>\n",
              "  </button>\n",
              "\n",
              "<style>\n",
              "  .colab-df-quickchart {\n",
              "      --bg-color: #E8F0FE;\n",
              "      --fill-color: #1967D2;\n",
              "      --hover-bg-color: #E2EBFA;\n",
              "      --hover-fill-color: #174EA6;\n",
              "      --disabled-fill-color: #AAA;\n",
              "      --disabled-bg-color: #DDD;\n",
              "  }\n",
              "\n",
              "  [theme=dark] .colab-df-quickchart {\n",
              "      --bg-color: #3B4455;\n",
              "      --fill-color: #D2E3FC;\n",
              "      --hover-bg-color: #434B5C;\n",
              "      --hover-fill-color: #FFFFFF;\n",
              "      --disabled-bg-color: #3B4455;\n",
              "      --disabled-fill-color: #666;\n",
              "  }\n",
              "\n",
              "  .colab-df-quickchart {\n",
              "    background-color: var(--bg-color);\n",
              "    border: none;\n",
              "    border-radius: 50%;\n",
              "    cursor: pointer;\n",
              "    display: none;\n",
              "    fill: var(--fill-color);\n",
              "    height: 32px;\n",
              "    padding: 0;\n",
              "    width: 32px;\n",
              "  }\n",
              "\n",
              "  .colab-df-quickchart:hover {\n",
              "    background-color: var(--hover-bg-color);\n",
              "    box-shadow: 0 1px 2px rgba(60, 64, 67, 0.3), 0 1px 3px 1px rgba(60, 64, 67, 0.15);\n",
              "    fill: var(--button-hover-fill-color);\n",
              "  }\n",
              "\n",
              "  .colab-df-quickchart-complete:disabled,\n",
              "  .colab-df-quickchart-complete:disabled:hover {\n",
              "    background-color: var(--disabled-bg-color);\n",
              "    fill: var(--disabled-fill-color);\n",
              "    box-shadow: none;\n",
              "  }\n",
              "\n",
              "  .colab-df-spinner {\n",
              "    border: 2px solid var(--fill-color);\n",
              "    border-color: transparent;\n",
              "    border-bottom-color: var(--fill-color);\n",
              "    animation:\n",
              "      spin 1s steps(1) infinite;\n",
              "  }\n",
              "\n",
              "  @keyframes spin {\n",
              "    0% {\n",
              "      border-color: transparent;\n",
              "      border-bottom-color: var(--fill-color);\n",
              "      border-left-color: var(--fill-color);\n",
              "    }\n",
              "    20% {\n",
              "      border-color: transparent;\n",
              "      border-left-color: var(--fill-color);\n",
              "      border-top-color: var(--fill-color);\n",
              "    }\n",
              "    30% {\n",
              "      border-color: transparent;\n",
              "      border-left-color: var(--fill-color);\n",
              "      border-top-color: var(--fill-color);\n",
              "      border-right-color: var(--fill-color);\n",
              "    }\n",
              "    40% {\n",
              "      border-color: transparent;\n",
              "      border-right-color: var(--fill-color);\n",
              "      border-top-color: var(--fill-color);\n",
              "    }\n",
              "    60% {\n",
              "      border-color: transparent;\n",
              "      border-right-color: var(--fill-color);\n",
              "    }\n",
              "    80% {\n",
              "      border-color: transparent;\n",
              "      border-right-color: var(--fill-color);\n",
              "      border-bottom-color: var(--fill-color);\n",
              "    }\n",
              "    90% {\n",
              "      border-color: transparent;\n",
              "      border-bottom-color: var(--fill-color);\n",
              "    }\n",
              "  }\n",
              "</style>\n",
              "\n",
              "  <script>\n",
              "    async function quickchart(key) {\n",
              "      const quickchartButtonEl =\n",
              "        document.querySelector('#' + key + ' button');\n",
              "      quickchartButtonEl.disabled = true;  // To prevent multiple clicks.\n",
              "      quickchartButtonEl.classList.add('colab-df-spinner');\n",
              "      try {\n",
              "        const charts = await google.colab.kernel.invokeFunction(\n",
              "            'suggestCharts', [key], {});\n",
              "      } catch (error) {\n",
              "        console.error('Error during call to suggestCharts:', error);\n",
              "      }\n",
              "      quickchartButtonEl.classList.remove('colab-df-spinner');\n",
              "      quickchartButtonEl.classList.add('colab-df-quickchart-complete');\n",
              "    }\n",
              "    (() => {\n",
              "      let quickchartButtonEl =\n",
              "        document.querySelector('#df-7d73b9aa-e7f3-4f96-8b1a-76d5c989c3a9 button');\n",
              "      quickchartButtonEl.style.display =\n",
              "        google.colab.kernel.accessAllowed ? 'block' : 'none';\n",
              "    })();\n",
              "  </script>\n",
              "</div>\n",
              "\n",
              "    </div>\n",
              "  </div>\n"
            ],
            "application/vnd.google.colaboratory.intrinsic+json": {
              "type": "dataframe",
              "summary": "{\n  \"name\": \"df\",\n  \"rows\": 8,\n  \"fields\": [\n    {\n      \"column\": \"Total Cases\",\n      \"properties\": {\n        \"dtype\": \"number\",\n        \"std\": 2680896.541880364,\n        \"min\": 36.0,\n        \"max\": 8060737.0,\n        \"num_unique_values\": 8,\n        \"samples\": [\n          1227073.611111111,\n          605871.0,\n          36.0\n        ],\n        \"semantic_type\": \"\",\n        \"description\": \"\"\n      }\n    },\n    {\n      \"column\": \"Active\",\n      \"properties\": {\n        \"dtype\": \"number\",\n        \"std\": 4133.691828751925,\n        \"min\": 0.0,\n        \"max\": 12429.0,\n        \"num_unique_values\": 8,\n        \"samples\": [\n          3661.3055555555557,\n          1915.5,\n          36.0\n        ],\n        \"semantic_type\": \"\",\n        \"description\": \"\"\n      }\n    },\n    {\n      \"column\": \"Discharged\",\n      \"properties\": {\n        \"dtype\": \"number\",\n        \"std\": 2627270.4093656577,\n        \"min\": 36.0,\n        \"max\": 7900626.0,\n        \"num_unique_values\": 8,\n        \"samples\": [\n          1208779.75,\n          594946.5,\n          36.0\n        ],\n        \"semantic_type\": \"\",\n        \"description\": \"\"\n      }\n    },\n    {\n      \"column\": \"Deaths\",\n      \"properties\": {\n        \"dtype\": \"number\",\n        \"std\": 50049.07356573975,\n        \"min\": 4.0,\n        \"max\": 148143.0,\n        \"num_unique_values\": 8,\n        \"samples\": [\n          14632.555555555555,\n          6523.5,\n          36.0\n        ],\n        \"semantic_type\": \"\",\n        \"description\": \"\"\n      }\n    },\n    {\n      \"column\": \"Active Ratio\",\n      \"properties\": {\n        \"dtype\": \"number\",\n        \"std\": 12.557323865730384,\n        \"min\": 0.0,\n        \"max\": 36.0,\n        \"num_unique_values\": 8,\n        \"samples\": [\n          0.4605555555555556,\n          0.38,\n          36.0\n        ],\n        \"semantic_type\": \"\",\n        \"description\": \"\"\n      }\n    },\n    {\n      \"column\": \"Discharge Ratio\",\n      \"properties\": {\n        \"dtype\": \"number\",\n        \"std\": 38.20316873109208,\n        \"min\": 0.687435999907085,\n        \"max\": 99.77,\n        \"num_unique_values\": 8,\n        \"samples\": [\n          98.43555555555557,\n          98.525,\n          36.0\n        ],\n        \"semantic_type\": \"\",\n        \"description\": \"\"\n      }\n    },\n    {\n      \"column\": \"Death Ratio\",\n      \"properties\": {\n        \"dtype\": \"number\",\n        \"std\": 12.382723956476669,\n        \"min\": 0.03,\n        \"max\": 36.0,\n        \"num_unique_values\": 8,\n        \"samples\": [\n          1.1038888888888887,\n          1.0750000000000002,\n          36.0\n        ],\n        \"semantic_type\": \"\",\n        \"description\": \"\"\n      }\n    },\n    {\n      \"column\": \"Population\",\n      \"properties\": {\n        \"dtype\": \"number\",\n        \"std\": 76905197.82912755,\n        \"min\": 36.0,\n        \"max\": 231502578.0,\n        \"num_unique_values\": 8,\n        \"samples\": [\n          39718607.777777776,\n          24100881.5,\n          36.0\n        ],\n        \"semantic_type\": \"\",\n        \"description\": \"\"\n      }\n    }\n  ]\n}"
            }
          },
          "metadata": {},
          "execution_count": 4
        }
      ]
    },
    {
      "cell_type": "markdown",
      "source": [
        "##TAKING CARE OF MISSING VALUES"
      ],
      "metadata": {
        "id": "9qcE_HW7BnFw"
      }
    },
    {
      "cell_type": "code",
      "source": [
        "missing_values = df.isnull().sum()\n",
        "print(missing_values)"
      ],
      "metadata": {
        "colab": {
          "base_uri": "https://localhost:8080/"
        },
        "id": "qJPKvZem-SyV",
        "outputId": "a898b18b-a0ef-478e-a4c3-89991c9c5fa7"
      },
      "execution_count": null,
      "outputs": [
        {
          "output_type": "stream",
          "name": "stdout",
          "text": [
            "State/UTs          0\n",
            "Total Cases        0\n",
            "Active             0\n",
            "Discharged         0\n",
            "Deaths             0\n",
            "Active Ratio       0\n",
            "Discharge Ratio    0\n",
            "Death Ratio        0\n",
            "Population         0\n",
            "dtype: int64\n"
          ]
        }
      ]
    },
    {
      "cell_type": "markdown",
      "source": [
        "##HANDLING DUPLICATE DATA:"
      ],
      "metadata": {
        "id": "WGiPc-xmBrqY"
      }
    },
    {
      "cell_type": "code",
      "source": [
        "# Check for duplicate rows in the dataset\n",
        "duplicate_rows = df.duplicated()\n",
        "num_duplicates = duplicate_rows.sum()\n",
        "\n",
        "print(f\" Number of duplicate rows: {num_duplicates}\")\n",
        "\n",
        "# Display duplicate rows if any exist\n",
        "if num_duplicates > 0:\n",
        "    print(\"Duplicate rows found:\")\n",
        "    print(df[duplicate_rows])\n",
        "else:\n",
        "    print(\" No duplicate rows found!\")\n"
      ],
      "metadata": {
        "colab": {
          "base_uri": "https://localhost:8080/"
        },
        "id": "ieXsu5DSBG9a",
        "outputId": "45c1f25f-bbba-4258-9958-984d5c9d0914"
      },
      "execution_count": null,
      "outputs": [
        {
          "output_type": "stream",
          "name": "stdout",
          "text": [
            " Number of duplicate rows: 0\n",
            " No duplicate rows found!\n"
          ]
        }
      ]
    },
    {
      "cell_type": "markdown",
      "source": [
        "##CREATING THE TARGET COLUMN:"
      ],
      "metadata": {
        "id": "a4BPTA8s-fCW"
      }
    },
    {
      "cell_type": "code",
      "source": [
        "from sklearn.preprocessing import MinMaxScaler, LabelEncoder\n",
        "\n",
        "# Define severity levels based on Active Ratio\n",
        "def classify_severity(active_ratio):\n",
        "    if active_ratio < 0.3:\n",
        "        return \"Low\"\n",
        "    elif active_ratio < 0.6:\n",
        "        return \"Medium\"\n",
        "    else:\n",
        "        return \"High\"\n",
        "\n",
        "# Apply classification\n",
        "df[\"Severity\"] = df[\"Active Ratio\"].apply(classify_severity) #Uses apply() to classify each row.\n",
        "\n"
      ],
      "metadata": {
        "id": "2yQMMuQuDiwC"
      },
      "execution_count": null,
      "outputs": []
    },
    {
      "cell_type": "markdown",
      "source": [
        "##ENCODING TARGET VARIABLE"
      ],
      "metadata": {
        "id": "eqehpWspEDrl"
      }
    },
    {
      "cell_type": "code",
      "source": [
        "# Encode severity labels\n",
        "label_encoder = LabelEncoder() # Converts categorical labels (Low, Medium, High) into numerical values (0,1,2).\n",
        "\n",
        "df[\"Severity_Label\"] = label_encoder.fit_transform(df[\"Severity\"])"
      ],
      "metadata": {
        "id": "_-xpL-WXECtc"
      },
      "execution_count": null,
      "outputs": []
    },
    {
      "cell_type": "markdown",
      "source": [
        "##NORMALIZATION"
      ],
      "metadata": {
        "id": "2kXS4V4PEMn7"
      }
    },
    {
      "cell_type": "code",
      "source": [
        "# Select features and normalize numerical columns\n",
        "features = [\"Total Cases\", \"Active\", \"Discharged\", \"Deaths\", \"Active Ratio\", \"Discharge Ratio\", \"Death Ratio\", \"Population\"]\n",
        "scaler = MinMaxScaler()\n",
        "df[features] = scaler.fit_transform(df[features]) # Normalizes numerical features to scale values between 0 and 1.\n"
      ],
      "metadata": {
        "id": "qbeTEYgjELbq"
      },
      "execution_count": null,
      "outputs": []
    },
    {
      "cell_type": "markdown",
      "source": [
        "##DROPPING NON ESSENTIAL COLUMNS"
      ],
      "metadata": {
        "id": "LVW8G415EVk2"
      }
    },
    {
      "cell_type": "code",
      "source": [
        "# Drop non-essential columns\n",
        "df_processed = df.drop(columns=[\"State/UTs\", \"Severity\"])\n",
        "\n",
        "# Show the processed dataset\n",
        "df_processed.head()"
      ],
      "metadata": {
        "colab": {
          "base_uri": "https://localhost:8080/",
          "height": 206
        },
        "id": "tR0W8BmyEUSK",
        "outputId": "44361393-3455-4ce5-f0b4-85afa9c72f4d"
      },
      "execution_count": null,
      "outputs": [
        {
          "output_type": "execute_result",
          "data": {
            "text/plain": [
              "   Total Cases    Active  Discharged    Deaths  Active Ratio  Discharge Ratio  \\\n",
              "0     0.000000  0.003218    0.000000  0.000844      0.236025         0.622951   \n",
              "1     0.288589  0.116904    0.292409  0.099427      0.037267         0.874317   \n",
              "2     0.006925  0.023735    0.007011  0.001971      0.279503         0.819672   \n",
              "3     0.090810  0.322311    0.091147  0.054125      0.335404         0.620219   \n",
              "4     0.103661  0.082388    0.104097  0.082902      0.074534         0.631148   \n",
              "\n",
              "   Death Ratio  Population  Severity_Label  \n",
              "0     0.530973    0.435673               2  \n",
              "1     0.265487    0.554944               1  \n",
              "2     0.185841    0.002558               2  \n",
              "3     0.464602    0.000970               2  \n",
              "4     0.628319    0.172982               1  "
            ],
            "text/html": [
              "\n",
              "  <div id=\"df-16a3a9b3-7042-40e6-9729-ba295ca91662\" class=\"colab-df-container\">\n",
              "    <div>\n",
              "<style scoped>\n",
              "    .dataframe tbody tr th:only-of-type {\n",
              "        vertical-align: middle;\n",
              "    }\n",
              "\n",
              "    .dataframe tbody tr th {\n",
              "        vertical-align: top;\n",
              "    }\n",
              "\n",
              "    .dataframe thead th {\n",
              "        text-align: right;\n",
              "    }\n",
              "</style>\n",
              "<table border=\"1\" class=\"dataframe\">\n",
              "  <thead>\n",
              "    <tr style=\"text-align: right;\">\n",
              "      <th></th>\n",
              "      <th>Total Cases</th>\n",
              "      <th>Active</th>\n",
              "      <th>Discharged</th>\n",
              "      <th>Deaths</th>\n",
              "      <th>Active Ratio</th>\n",
              "      <th>Discharge Ratio</th>\n",
              "      <th>Death Ratio</th>\n",
              "      <th>Population</th>\n",
              "      <th>Severity_Label</th>\n",
              "    </tr>\n",
              "  </thead>\n",
              "  <tbody>\n",
              "    <tr>\n",
              "      <th>0</th>\n",
              "      <td>0.000000</td>\n",
              "      <td>0.003218</td>\n",
              "      <td>0.000000</td>\n",
              "      <td>0.000844</td>\n",
              "      <td>0.236025</td>\n",
              "      <td>0.622951</td>\n",
              "      <td>0.530973</td>\n",
              "      <td>0.435673</td>\n",
              "      <td>2</td>\n",
              "    </tr>\n",
              "    <tr>\n",
              "      <th>1</th>\n",
              "      <td>0.288589</td>\n",
              "      <td>0.116904</td>\n",
              "      <td>0.292409</td>\n",
              "      <td>0.099427</td>\n",
              "      <td>0.037267</td>\n",
              "      <td>0.874317</td>\n",
              "      <td>0.265487</td>\n",
              "      <td>0.554944</td>\n",
              "      <td>1</td>\n",
              "    </tr>\n",
              "    <tr>\n",
              "      <th>2</th>\n",
              "      <td>0.006925</td>\n",
              "      <td>0.023735</td>\n",
              "      <td>0.007011</td>\n",
              "      <td>0.001971</td>\n",
              "      <td>0.279503</td>\n",
              "      <td>0.819672</td>\n",
              "      <td>0.185841</td>\n",
              "      <td>0.002558</td>\n",
              "      <td>2</td>\n",
              "    </tr>\n",
              "    <tr>\n",
              "      <th>3</th>\n",
              "      <td>0.090810</td>\n",
              "      <td>0.322311</td>\n",
              "      <td>0.091147</td>\n",
              "      <td>0.054125</td>\n",
              "      <td>0.335404</td>\n",
              "      <td>0.620219</td>\n",
              "      <td>0.464602</td>\n",
              "      <td>0.000970</td>\n",
              "      <td>2</td>\n",
              "    </tr>\n",
              "    <tr>\n",
              "      <th>4</th>\n",
              "      <td>0.103661</td>\n",
              "      <td>0.082388</td>\n",
              "      <td>0.104097</td>\n",
              "      <td>0.082902</td>\n",
              "      <td>0.074534</td>\n",
              "      <td>0.631148</td>\n",
              "      <td>0.628319</td>\n",
              "      <td>0.172982</td>\n",
              "      <td>1</td>\n",
              "    </tr>\n",
              "  </tbody>\n",
              "</table>\n",
              "</div>\n",
              "    <div class=\"colab-df-buttons\">\n",
              "\n",
              "  <div class=\"colab-df-container\">\n",
              "    <button class=\"colab-df-convert\" onclick=\"convertToInteractive('df-16a3a9b3-7042-40e6-9729-ba295ca91662')\"\n",
              "            title=\"Convert this dataframe to an interactive table.\"\n",
              "            style=\"display:none;\">\n",
              "\n",
              "  <svg xmlns=\"http://www.w3.org/2000/svg\" height=\"24px\" viewBox=\"0 -960 960 960\">\n",
              "    <path d=\"M120-120v-720h720v720H120Zm60-500h600v-160H180v160Zm220 220h160v-160H400v160Zm0 220h160v-160H400v160ZM180-400h160v-160H180v160Zm440 0h160v-160H620v160ZM180-180h160v-160H180v160Zm440 0h160v-160H620v160Z\"/>\n",
              "  </svg>\n",
              "    </button>\n",
              "\n",
              "  <style>\n",
              "    .colab-df-container {\n",
              "      display:flex;\n",
              "      gap: 12px;\n",
              "    }\n",
              "\n",
              "    .colab-df-convert {\n",
              "      background-color: #E8F0FE;\n",
              "      border: none;\n",
              "      border-radius: 50%;\n",
              "      cursor: pointer;\n",
              "      display: none;\n",
              "      fill: #1967D2;\n",
              "      height: 32px;\n",
              "      padding: 0 0 0 0;\n",
              "      width: 32px;\n",
              "    }\n",
              "\n",
              "    .colab-df-convert:hover {\n",
              "      background-color: #E2EBFA;\n",
              "      box-shadow: 0px 1px 2px rgba(60, 64, 67, 0.3), 0px 1px 3px 1px rgba(60, 64, 67, 0.15);\n",
              "      fill: #174EA6;\n",
              "    }\n",
              "\n",
              "    .colab-df-buttons div {\n",
              "      margin-bottom: 4px;\n",
              "    }\n",
              "\n",
              "    [theme=dark] .colab-df-convert {\n",
              "      background-color: #3B4455;\n",
              "      fill: #D2E3FC;\n",
              "    }\n",
              "\n",
              "    [theme=dark] .colab-df-convert:hover {\n",
              "      background-color: #434B5C;\n",
              "      box-shadow: 0px 1px 3px 1px rgba(0, 0, 0, 0.15);\n",
              "      filter: drop-shadow(0px 1px 2px rgba(0, 0, 0, 0.3));\n",
              "      fill: #FFFFFF;\n",
              "    }\n",
              "  </style>\n",
              "\n",
              "    <script>\n",
              "      const buttonEl =\n",
              "        document.querySelector('#df-16a3a9b3-7042-40e6-9729-ba295ca91662 button.colab-df-convert');\n",
              "      buttonEl.style.display =\n",
              "        google.colab.kernel.accessAllowed ? 'block' : 'none';\n",
              "\n",
              "      async function convertToInteractive(key) {\n",
              "        const element = document.querySelector('#df-16a3a9b3-7042-40e6-9729-ba295ca91662');\n",
              "        const dataTable =\n",
              "          await google.colab.kernel.invokeFunction('convertToInteractive',\n",
              "                                                    [key], {});\n",
              "        if (!dataTable) return;\n",
              "\n",
              "        const docLinkHtml = 'Like what you see? Visit the ' +\n",
              "          '<a target=\"_blank\" href=https://colab.research.google.com/notebooks/data_table.ipynb>data table notebook</a>'\n",
              "          + ' to learn more about interactive tables.';\n",
              "        element.innerHTML = '';\n",
              "        dataTable['output_type'] = 'display_data';\n",
              "        await google.colab.output.renderOutput(dataTable, element);\n",
              "        const docLink = document.createElement('div');\n",
              "        docLink.innerHTML = docLinkHtml;\n",
              "        element.appendChild(docLink);\n",
              "      }\n",
              "    </script>\n",
              "  </div>\n",
              "\n",
              "\n",
              "<div id=\"df-00ef5776-04df-4310-a105-343240201acf\">\n",
              "  <button class=\"colab-df-quickchart\" onclick=\"quickchart('df-00ef5776-04df-4310-a105-343240201acf')\"\n",
              "            title=\"Suggest charts\"\n",
              "            style=\"display:none;\">\n",
              "\n",
              "<svg xmlns=\"http://www.w3.org/2000/svg\" height=\"24px\"viewBox=\"0 0 24 24\"\n",
              "     width=\"24px\">\n",
              "    <g>\n",
              "        <path d=\"M19 3H5c-1.1 0-2 .9-2 2v14c0 1.1.9 2 2 2h14c1.1 0 2-.9 2-2V5c0-1.1-.9-2-2-2zM9 17H7v-7h2v7zm4 0h-2V7h2v10zm4 0h-2v-4h2v4z\"/>\n",
              "    </g>\n",
              "</svg>\n",
              "  </button>\n",
              "\n",
              "<style>\n",
              "  .colab-df-quickchart {\n",
              "      --bg-color: #E8F0FE;\n",
              "      --fill-color: #1967D2;\n",
              "      --hover-bg-color: #E2EBFA;\n",
              "      --hover-fill-color: #174EA6;\n",
              "      --disabled-fill-color: #AAA;\n",
              "      --disabled-bg-color: #DDD;\n",
              "  }\n",
              "\n",
              "  [theme=dark] .colab-df-quickchart {\n",
              "      --bg-color: #3B4455;\n",
              "      --fill-color: #D2E3FC;\n",
              "      --hover-bg-color: #434B5C;\n",
              "      --hover-fill-color: #FFFFFF;\n",
              "      --disabled-bg-color: #3B4455;\n",
              "      --disabled-fill-color: #666;\n",
              "  }\n",
              "\n",
              "  .colab-df-quickchart {\n",
              "    background-color: var(--bg-color);\n",
              "    border: none;\n",
              "    border-radius: 50%;\n",
              "    cursor: pointer;\n",
              "    display: none;\n",
              "    fill: var(--fill-color);\n",
              "    height: 32px;\n",
              "    padding: 0;\n",
              "    width: 32px;\n",
              "  }\n",
              "\n",
              "  .colab-df-quickchart:hover {\n",
              "    background-color: var(--hover-bg-color);\n",
              "    box-shadow: 0 1px 2px rgba(60, 64, 67, 0.3), 0 1px 3px 1px rgba(60, 64, 67, 0.15);\n",
              "    fill: var(--button-hover-fill-color);\n",
              "  }\n",
              "\n",
              "  .colab-df-quickchart-complete:disabled,\n",
              "  .colab-df-quickchart-complete:disabled:hover {\n",
              "    background-color: var(--disabled-bg-color);\n",
              "    fill: var(--disabled-fill-color);\n",
              "    box-shadow: none;\n",
              "  }\n",
              "\n",
              "  .colab-df-spinner {\n",
              "    border: 2px solid var(--fill-color);\n",
              "    border-color: transparent;\n",
              "    border-bottom-color: var(--fill-color);\n",
              "    animation:\n",
              "      spin 1s steps(1) infinite;\n",
              "  }\n",
              "\n",
              "  @keyframes spin {\n",
              "    0% {\n",
              "      border-color: transparent;\n",
              "      border-bottom-color: var(--fill-color);\n",
              "      border-left-color: var(--fill-color);\n",
              "    }\n",
              "    20% {\n",
              "      border-color: transparent;\n",
              "      border-left-color: var(--fill-color);\n",
              "      border-top-color: var(--fill-color);\n",
              "    }\n",
              "    30% {\n",
              "      border-color: transparent;\n",
              "      border-left-color: var(--fill-color);\n",
              "      border-top-color: var(--fill-color);\n",
              "      border-right-color: var(--fill-color);\n",
              "    }\n",
              "    40% {\n",
              "      border-color: transparent;\n",
              "      border-right-color: var(--fill-color);\n",
              "      border-top-color: var(--fill-color);\n",
              "    }\n",
              "    60% {\n",
              "      border-color: transparent;\n",
              "      border-right-color: var(--fill-color);\n",
              "    }\n",
              "    80% {\n",
              "      border-color: transparent;\n",
              "      border-right-color: var(--fill-color);\n",
              "      border-bottom-color: var(--fill-color);\n",
              "    }\n",
              "    90% {\n",
              "      border-color: transparent;\n",
              "      border-bottom-color: var(--fill-color);\n",
              "    }\n",
              "  }\n",
              "</style>\n",
              "\n",
              "  <script>\n",
              "    async function quickchart(key) {\n",
              "      const quickchartButtonEl =\n",
              "        document.querySelector('#' + key + ' button');\n",
              "      quickchartButtonEl.disabled = true;  // To prevent multiple clicks.\n",
              "      quickchartButtonEl.classList.add('colab-df-spinner');\n",
              "      try {\n",
              "        const charts = await google.colab.kernel.invokeFunction(\n",
              "            'suggestCharts', [key], {});\n",
              "      } catch (error) {\n",
              "        console.error('Error during call to suggestCharts:', error);\n",
              "      }\n",
              "      quickchartButtonEl.classList.remove('colab-df-spinner');\n",
              "      quickchartButtonEl.classList.add('colab-df-quickchart-complete');\n",
              "    }\n",
              "    (() => {\n",
              "      let quickchartButtonEl =\n",
              "        document.querySelector('#df-00ef5776-04df-4310-a105-343240201acf button');\n",
              "      quickchartButtonEl.style.display =\n",
              "        google.colab.kernel.accessAllowed ? 'block' : 'none';\n",
              "    })();\n",
              "  </script>\n",
              "</div>\n",
              "\n",
              "    </div>\n",
              "  </div>\n"
            ],
            "application/vnd.google.colaboratory.intrinsic+json": {
              "type": "dataframe",
              "variable_name": "df_processed",
              "summary": "{\n  \"name\": \"df_processed\",\n  \"rows\": 36,\n  \"fields\": [\n    {\n      \"column\": \"Total Cases\",\n      \"properties\": {\n        \"dtype\": \"number\",\n        \"std\": 0.22525274522080996,\n        \"min\": 0.0,\n        \"max\": 1.0,\n        \"num_unique_values\": 36,\n        \"samples\": [\n          0.25948695907634994,\n          0.05710379883320176,\n          0.02001792494256379\n        ],\n        \"semantic_type\": \"\",\n        \"description\": \"\"\n      }\n    },\n    {\n      \"column\": \"Active\",\n      \"properties\": {\n        \"dtype\": \"number\",\n        \"std\": 0.3046575637091178,\n        \"min\": 0.0,\n        \"max\": 0.9999999999999999,\n        \"num_unique_values\": 36,\n        \"samples\": [\n          0.5874969828626598,\n          0.4059055434870062,\n          0.0514924772708987\n        ],\n        \"semantic_type\": \"\",\n        \"description\": \"\"\n      }\n    },\n    {\n      \"column\": \"Discharged\",\n      \"properties\": {\n        \"dtype\": \"number\",\n        \"std\": 0.2262190135014398,\n        \"min\": 0.0,\n        \"max\": 1.0000000000000002,\n        \"num_unique_values\": 36,\n        \"samples\": [\n          0.26113073367490913,\n          0.05703805929640382,\n          0.020114715638570077\n        ],\n        \"semantic_type\": \"\",\n        \"description\": \"\"\n      }\n    },\n    {\n      \"column\": \"Deaths\",\n      \"properties\": {\n        \"dtype\": \"number\",\n        \"std\": 0.18269261889839494,\n        \"min\": 0.0,\n        \"max\": 1.0,\n        \"num_unique_values\": 36,\n        \"samples\": [\n          0.14443191867097793,\n          0.032212989152080145,\n          0.01325106825346465\n        ],\n        \"semantic_type\": \"\",\n        \"description\": \"\"\n      }\n    },\n    {\n      \"column\": \"Active Ratio\",\n      \"properties\": {\n        \"dtype\": \"number\",\n        \"std\": 0.23474619532578322,\n        \"min\": 0.0,\n        \"max\": 1.0,\n        \"num_unique_values\": 29,\n        \"samples\": [\n          0.32919254658385094,\n          0.08074534161490683,\n          0.6645962732919255\n        ],\n        \"semantic_type\": \"\",\n        \"description\": \"\"\n      }\n    },\n    {\n      \"column\": \"Discharge Ratio\",\n      \"properties\": {\n        \"dtype\": \"number\",\n        \"std\": 0.18782404369046055,\n        \"min\": 0.0,\n        \"max\": 1.0,\n        \"num_unique_values\": 33,\n        \"samples\": [\n          0.4426229508196755,\n          0.7131147540983633,\n          0.0\n        ],\n        \"semantic_type\": \"\",\n        \"description\": \"\"\n      }\n    },\n    {\n      \"column\": \"Death Ratio\",\n      \"properties\": {\n        \"dtype\": \"number\",\n        \"std\": 0.2141814351002477,\n        \"min\": 0.0,\n        \"max\": 0.9999999999999999,\n        \"num_unique_values\": 32,\n        \"samples\": [\n          0.2079646017699115,\n          0.45132743362831856,\n          0.49557522123893794\n        ],\n        \"semantic_type\": \"\",\n        \"description\": \"\"\n      }\n    },\n    {\n      \"column\": \"Population\",\n      \"properties\": {\n        \"dtype\": \"number\",\n        \"std\": 0.21824179053478415,\n        \"min\": 0.0,\n        \"max\": 1.0,\n        \"num_unique_values\": 36,\n        \"samples\": [\n          0.1388446088191151,\n          0.0,\n          0.008672237664489827\n        ],\n        \"semantic_type\": \"\",\n        \"description\": \"\"\n      }\n    },\n    {\n      \"column\": \"Severity_Label\",\n      \"properties\": {\n        \"dtype\": \"number\",\n        \"std\": 0,\n        \"min\": 0,\n        \"max\": 2,\n        \"num_unique_values\": 3,\n        \"samples\": [\n          2,\n          1,\n          0\n        ],\n        \"semantic_type\": \"\",\n        \"description\": \"\"\n      }\n    }\n  ]\n}"
            }
          },
          "metadata": {},
          "execution_count": 10
        }
      ]
    },
    {
      "cell_type": "markdown",
      "source": [
        "Data cleaning ensures that models learn from accurate, meaningful data rather than noise.\n",
        "Key steps:\n",
        "\n",
        "Handling Missing Values – Replacing NaN values with the median or mode.\n",
        "Feature Scaling – Standardizing numerical features for better model performance.\n",
        "Categorizing Target Variable – Converting \"Total Cases\" into \"Low,\" \"Medium,\" and \"High\" severity.\n",
        "Encoding Categorical Variables – Transforming text data into numerical form (if necessary).\n"
      ],
      "metadata": {
        "id": "wx8_1v4sZIib"
      }
    },
    {
      "cell_type": "markdown",
      "source": [
        "#DATA VISUALIZATION"
      ],
      "metadata": {
        "id": "WXevK9-7Es7c"
      }
    },
    {
      "cell_type": "code",
      "source": [
        "import seaborn as sns\n",
        "import matplotlib.pyplot as plt\n",
        "\n",
        "# Set plot style\n",
        "sns.set_style(\"whitegrid\")\n",
        "\n",
        "# 1. Severity Level Distribution\n",
        "plt.figure(figsize=(6, 4))\n",
        "sns.countplot(x=df[\"Severity\"], palette=\"viridis\")\n",
        "plt.title(\"Severity Level Distribution\")\n",
        "plt.xlabel(\"Covid-19 Severity Level\")\n",
        "plt.ylabel(\"Count\")\n",
        "plt.show()\n",
        "\n",
        "# 2. Correlation Heatmap: Feature Selection and Engineering\n",
        "#How It Helped:\n",
        "#-Identified highly correlated features to avoid redundancy.\n",
        "#-Ensured that features with strong relationships with Deaths were retained.\n",
        "#-Verified that the newly created ratios (Active Ratio, Death Ratio, etc.) contributed meaningfully.\n",
        "plt.figure(figsize=(10, 6))\n",
        "sns.heatmap(df_processed.corr(), annot=True, cmap=\"coolwarm\", fmt=\".2f\", linewidths=0.5)\n",
        "plt.title(\"Feature Correlation Heatmap\")\n",
        "plt.show()\n",
        "\n",
        "# 4. Boxplots for Feature Distributions by Severity Level\n",
        "# Showed extreme values that could negatively impact model performance.\n",
        "# Helped decide whether to remove or transform outliers.\n",
        "# Ensured the scaled features were normally distributed for KNN.\n",
        "plt.figure(figsize=(12, 6))\n",
        "melted_df = df.melt(id_vars=[\"Severity\"], value_vars=[\"Total Cases\", \"Active\", \"Discharged\", \"Deaths\", \"Active Ratio\"])\n",
        "sns.boxplot(x=\"variable\", y=\"value\", hue=\"Severity\", data=melted_df, palette=\"Set2\")\n",
        "plt.xticks(rotation=45)\n",
        "plt.title(\"Feature Distributions by Severity Level\")\n",
        "plt.show()\n",
        "\n",
        "# 5. Bar Plot for total cases per state\n",
        "plt.figure(figsize=(12, 6))\n",
        "top_10_states = df.sort_values(\"Total Cases\", ascending=False).head(10)\n",
        "sns.barplot(x=\"Total Cases\", y=\"State/UTs\", data=top_10_states, palette=\"Reds_r\")\n",
        "plt.title(\"Top 10 Indian States by Covid-19 Cases\", fontsize=14)\n",
        "plt.xlabel(\"Total Cases\")\n",
        "plt.ylabel(\"State\")\n",
        "plt.show()"
      ],
      "metadata": {
        "colab": {
          "base_uri": "https://localhost:8080/",
          "height": 1000
        },
        "id": "8EcE0oCjEigh",
        "outputId": "06e77565-edf6-41a8-ba95-3338470008ac"
      },
      "execution_count": null,
      "outputs": [
        {
          "output_type": "stream",
          "name": "stderr",
          "text": [
            "<ipython-input-11-5bc1c4a704f1>:9: FutureWarning: \n",
            "\n",
            "Passing `palette` without assigning `hue` is deprecated and will be removed in v0.14.0. Assign the `x` variable to `hue` and set `legend=False` for the same effect.\n",
            "\n",
            "  sns.countplot(x=df[\"Severity\"], palette=\"viridis\")\n"
          ]
        },
        {
          "output_type": "display_data",
          "data": {
            "text/plain": [
              "<Figure size 600x400 with 1 Axes>"
            ],
            "image/png": "[encoded data removed]"
          },
          "metadata": {}
        },
        {
          "output_type": "display_data",
          "data": {
            "text/plain": [
              "<Figure size 1000x600 with 2 Axes>"
            ],
            "image/png": "[encoded data removed]"
          },
          "metadata": {}
        },
        {
          "output_type": "display_data",
          "data": {
            "text/plain": [
              "<Figure size 1200x600 with 1 Axes>"
            ],
            "image/png": "[encoded data removed]"
          },
          "metadata": {}
        },
        {
          "output_type": "stream",
          "name": "stderr",
          "text": [
            "<ipython-input-11-5bc1c4a704f1>:39: FutureWarning: \n",
            "\n",
            "Passing `palette` without assigning `hue` is deprecated and will be removed in v0.14.0. Assign the `y` variable to `hue` and set `legend=False` for the same effect.\n",
            "\n",
            "  sns.barplot(x=\"Total Cases\", y=\"State/UTs\", data=top_10_states, palette=\"Reds_r\")\n"
          ]
        },
        {
          "output_type": "display_data",
          "data": {
            "text/plain": [
              "<Figure size 1200x600 with 1 Axes>"
            ],
            "image/png": "[encoded data removed]"
          },
          "metadata": {}
        }
      ]
    },
    {
      "cell_type": "markdown",
      "source": [
        "### **Insights from the Data Visualization**  \n",
        "\n",
        "1. **Severity Level Distribution:**\n",
        "* The dataset contains three severity levels: Low, Medium, and High.\n",
        "Some classes are more frequent than others, which might affect model predictions.\n",
        "2. **Correlation Heatmap:**\n",
        "- Strong correlation observed between:\n",
        "- Total Cases & Active Cases\n",
        "- Total Cases & Deaths\n",
        "- Active Cases & Active Ratio\n",
        "- Active Ratio and Discharge Ratio show inverse relationships, indicating that as more people recover, active cases decrease.\n",
        "\n",
        "4. **Boxplot Observations:**  \n",
        "   - **Total Cases:**  \n",
        "     - There is a wide spread of total cases, with some states/UTs having significantly higher numbers. These high outliers likely represent heavily affected regions.  \n",
        "   - **Active Cases:**  \n",
        "     - The spread of active cases is skewed, indicating that some states/UTs had extremely high numbers compared to the majority.  \n",
        "   - **Discharged Cases:**  \n",
        "     - Most states have a high number of discharged cases, indicating a strong recovery trend in many regions.  \n",
        "   - **Deaths:**  \n",
        "     - A few states experienced very high fatalities, as indicated by the upper outliers.  \n",
        "   - **Active Ratio:**  \n",
        "     - The variability in active ratio suggests that while some states recovered quickly, others continued to have high active case burdens.  \n"
      ],
      "metadata": {
        "id": "4AfWzeaVFCH8"
      }
    },
    {
      "cell_type": "markdown",
      "source": [
        "#MODEL BULIDING:"
      ],
      "metadata": {
        "id": "ipu8RjzqFXj_"
      }
    },
    {
      "cell_type": "markdown",
      "source": [
        "##IMPORTING LIBRARIES"
      ],
      "metadata": {
        "id": "PDQncuVWFtbR"
      }
    },
    {
      "cell_type": "code",
      "source": [
        "from sklearn.model_selection import train_test_split\n",
        "from sklearn.naive_bayes import GaussianNB\n",
        "from sklearn.neighbors import KNeighborsClassifier\n",
        "from sklearn.metrics import accuracy_score, confusion_matrix\n"
      ],
      "metadata": {
        "id": "FVQx1N3XEwWp"
      },
      "execution_count": null,
      "outputs": []
    },
    {
      "cell_type": "markdown",
      "source": [
        "##DEFINING DEPENDENT AND INDEPENTENT VARIABLES"
      ],
      "metadata": {
        "id": "zk59a8GhFwsq"
      }
    },
    {
      "cell_type": "code",
      "source": [
        "# Define features and target variable\n",
        "X = df_processed.drop(columns=[\"Severity_Label\"])\n",
        "y = df_processed[\"Severity_Label\"]"
      ],
      "metadata": {
        "id": "zfH2-7Y5Feao"
      },
      "execution_count": null,
      "outputs": []
    },
    {
      "cell_type": "markdown",
      "source": [
        "##SPLITTING THE DATA IN TRAIN AND TEST SET"
      ],
      "metadata": {
        "id": "ciHD8ZQiF1qL"
      }
    },
    {
      "cell_type": "code",
      "source": [
        "# Split into training (80%) and testing (20%)\n",
        "X_train, X_test, y_train, y_test = train_test_split(X, y, test_size=0.2, random_state=42)"
      ],
      "metadata": {
        "id": "JJnMNNH5FhYL"
      },
      "execution_count": null,
      "outputs": []
    },
    {
      "cell_type": "markdown",
      "source": [
        "##NAIVE BAYES MODEL"
      ],
      "metadata": {
        "id": "t1xgk-6XF6Qi"
      }
    },
    {
      "cell_type": "code",
      "source": [
        "# Train Naive Bayes model\n",
        "nb_model = GaussianNB()\n",
        "nb_model.fit(X_train, y_train)\n",
        "y_pred_nb = nb_model.predict(X_test)"
      ],
      "metadata": {
        "id": "iPbWhbE-FjHD"
      },
      "execution_count": null,
      "outputs": []
    },
    {
      "cell_type": "markdown",
      "source": [
        "##KNN MODEL"
      ],
      "metadata": {
        "id": "E5kU_uS1F-gJ"
      }
    },
    {
      "cell_type": "code",
      "source": [
        "# Train KNN model (k=5)\n",
        "knn_model = KNeighborsClassifier(n_neighbors=5)\n",
        "knn_model.fit(X_train, y_train)\n",
        "y_pred_knn = knn_model.predict(X_test)"
      ],
      "metadata": {
        "id": "xaqthuPLFlUo"
      },
      "execution_count": null,
      "outputs": []
    },
    {
      "cell_type": "markdown",
      "source": [
        "#MODEL EVALUATION"
      ],
      "metadata": {
        "id": "7jPgPAaeGCB_"
      }
    },
    {
      "cell_type": "code",
      "source": [
        "# Evaluate models\n",
        "accuracy_nb = accuracy_score(y_test, y_pred_nb)\n",
        "accuracy_knn = accuracy_score(y_test, y_pred_knn)\n",
        "conf_matrix_nb = confusion_matrix(y_test, y_pred_nb)\n",
        "conf_matrix_knn = confusion_matrix(y_test, y_pred_knn)\n"
      ],
      "metadata": {
        "id": "MgdzXgL1Fnrh"
      },
      "execution_count": null,
      "outputs": []
    },
    {
      "cell_type": "code",
      "source": [
        "# Display results\n",
        "accuracy_nb, accuracy_knn, conf_matrix_nb, conf_matrix_knn"
      ],
      "metadata": {
        "colab": {
          "base_uri": "https://localhost:8080/"
        },
        "id": "Je0T-uwxFqOz",
        "outputId": "beebd539-0519-48de-d159-4e4790637853"
      },
      "execution_count": null,
      "outputs": [
        {
          "output_type": "execute_result",
          "data": {
            "text/plain": [
              "(0.75,\n",
              " 0.625,\n",
              " array([[3, 0, 0],\n",
              "        [1, 2, 0],\n",
              "        [0, 1, 1]]),\n",
              " array([[2, 0, 1],\n",
              "        [0, 2, 1],\n",
              "        [0, 1, 1]]))"
            ]
          },
          "metadata": {},
          "execution_count": 18
        }
      ]
    },
    {
      "cell_type": "markdown",
      "source": [
        "##CONFUSION MATRIX VISUALIZATION"
      ],
      "metadata": {
        "id": "RSSRir2bGcF2"
      }
    },
    {
      "cell_type": "code",
      "source": [
        "# Function to plot confusion matrix\n",
        "def plot_confusion_matrix(cm, model_name):\n",
        "    plt.figure(figsize=(5, 4))\n",
        "    sns.heatmap(cm, annot=True, fmt=\"d\", cmap=\"Blues\", xticklabels=[\"Low\", \"Medium\", \"High\"], yticklabels=[\"Low\", \"Medium\", \"High\"])\n",
        "    plt.xlabel(\"Predicted Label\")\n",
        "    plt.ylabel(\"True Label\")\n",
        "    plt.title(f\"Confusion Matrix - {model_name}\")\n",
        "    plt.show()\n",
        "\n",
        "# Plot confusion matrices for both models\n",
        "plot_confusion_matrix(conf_matrix_nb, \"Naive Bayes\")\n",
        "plot_confusion_matrix(conf_matrix_knn, \"KNN (k=5)\")\n"
      ],
      "metadata": {
        "colab": {
          "base_uri": "https://localhost:8080/",
          "height": 803
        },
        "id": "S-_MZV6tGMsx",
        "outputId": "a0a7bbf3-311c-4ed8-d567-7e7693063e42"
      },
      "execution_count": null,
      "outputs": [
        {
          "output_type": "display_data",
          "data": {
            "text/plain": [
              "<Figure size 500x400 with 2 Axes>"
            ],
            "image/png": "[encoded data removed]"
          },
          "metadata": {}
        },
        {
          "output_type": "display_data",
          "data": {
            "text/plain": [
              "<Figure size 500x400 with 2 Axes>"
            ],
            "image/png": "[encoded data removed]"
          },
          "metadata": {}
        }
      ]
    },
    {
      "cell_type": "markdown",
      "source": [
        "* Naive Bayes performs better for Low severity cases, classifying all 3 correctly, while KNN misclassified one as High.\n",
        "* Both models classify Medium cases similarly, correctly predicting 2 but misclassifying 1.\n",
        "* For High severity cases, both models struggle, but Naive Bayes has one fewer misclassification.\n",
        "* Overall, Naive Bayes appears slightly better in this case, making fewer misclassifications than KNN."
      ],
      "metadata": {
        "id": "cPLYcy0Rju3j"
      }
    },
    {
      "cell_type": "code",
      "source": [
        "from sklearn.metrics import precision_score, recall_score, f1_score\n",
        "\n",
        "# Compute evaluation metrics for Naive Bayes\n",
        "precision_nb = precision_score(y_test, y_pred_nb, average='weighted')\n",
        "recall_nb = recall_score(y_test, y_pred_nb, average='weighted')\n",
        "f1_nb = f1_score(y_test, y_pred_nb, average='weighted')\n",
        "\n",
        "# Compute evaluation metrics for KNN\n",
        "precision_knn = precision_score(y_test, y_pred_knn, average='weighted')\n",
        "recall_knn = recall_score(y_test, y_pred_knn, average='weighted')\n",
        "f1_knn = f1_score(y_test, y_pred_knn, average='weighted')\n",
        "\n",
        "# Display results\n",
        "(accuracy_nb, precision_nb, recall_nb, f1_nb), (accuracy_knn, precision_knn, recall_knn, f1_knn)\n"
      ],
      "metadata": {
        "colab": {
          "base_uri": "https://localhost:8080/"
        },
        "id": "z2Qk-FHDGhae",
        "outputId": "11f34a07-7f0a-48cf-c41c-7f7d88cfd746"
      },
      "execution_count": null,
      "outputs": [
        {
          "output_type": "execute_result",
          "data": {
            "text/plain": [
              "((0.75, 0.78125, 0.75, 0.738095238095238),\n",
              " (0.625, 0.7083333333333334, 0.625, 0.65))"
            ]
          },
          "metadata": {},
          "execution_count": 20
        }
      ]
    },
    {
      "cell_type": "markdown",
      "source": [
        "Naive Bayes performed better overall across all metrics, achieving higher\n",
        "\n",
        "*  accuracy (75%) and a better F1-score (73.8%), indicating a more balanced performance.\n",
        "\n",
        "*   Recall (Naive Bayes: 75% vs. KNN: 62.5%) suggests that Naive Bayes is also better at correctly identifying positive cases (fewer false negatives).\n",
        "\n",
        "\n",
        "*   Precision (Naive Bayes: 78.1% vs. KNN: 70.8%) shows that Naive Bayes is better\n",
        "at avoiding false positives.\n",
        "\n",
        "\n",
        "\n",
        "\n",
        "KNN had lower performance, particularly struggling with recall, meaning it missed more instances of the correct severity level.\n",
        "*  Final Verdict:\n",
        "Naive Bayes is the better model for classifying Covid-19 severity levels in this dataset, as it consistently outperformed KNN in all key metrics."
      ],
      "metadata": {
        "id": "FXsIiAn8HRyq"
      }
    },
    {
      "cell_type": "code",
      "source": [
        "import warnings\n",
        "warnings.filterwarnings(\"ignore\", category=UserWarning)\n"
      ],
      "metadata": {
        "id": "PlRVbIoiKV8E"
      },
      "execution_count": null,
      "outputs": []
    },
    {
      "cell_type": "markdown",
      "source": [
        "#EXAMPLE"
      ],
      "metadata": {
        "id": "-6uNmcMSKkC5"
      }
    },
    {
      "cell_type": "code",
      "source": [
        "# Define the feature names (ensure these match the training data)\n",
        "feature_names = [\"Total Cases\", \"Active\", \"Discharged\", \"Deaths\",\n",
        "                 \"Active Ratio\", \"Discharge Ratio\", \"Death Ratio\", \"Population\"]\n",
        "\n",
        "# Sample input data\n",
        "new_data = [[500000, 20000, 470000, 10000, 4.0, 98.0, 2.0, 35000000]]\n",
        "\n",
        "# Convert new_data to a DataFrame with correct column names\n",
        "new_data_df = pd.DataFrame(new_data, columns=feature_names)\n",
        "\n",
        "# Ensure new data is scaled using the same scaler used in training\n",
        "new_data_scaled = scaler.transform(new_data_df)  # No need to repeat scaling\n",
        "\n",
        "# Predict using Naive Bayes\n",
        "nb_prediction = nb_model.predict(new_data_scaled)\n",
        "print(\"Naive Bayes Prediction (0 = Low, 1 = Medium, 2 = High):\", nb_prediction[0])\n",
        "\n",
        "# Predict using KNN\n",
        "knn_prediction = knn_model.predict(new_data_scaled)\n",
        "print(\"KNN Prediction (0 = Low, 1 = Medium, 2 = High):\", knn_prediction[0])\n"
      ],
      "metadata": {
        "colab": {
          "base_uri": "https://localhost:8080/"
        },
        "id": "QhELCZupFCuj",
        "outputId": "8fc6caa0-c2da-4f92-aa79-2ae31fa15cd2"
      },
      "execution_count": null,
      "outputs": [
        {
          "output_type": "stream",
          "name": "stdout",
          "text": [
            "Naive Bayes Prediction (0 = Low, 1 = Medium, 2 = High): 0\n",
            "KNN Prediction (0 = Low, 1 = Medium, 2 = High): 2\n"
          ]
        }
      ]
    },
    {
      "cell_type": "code",
      "source": [],
      "metadata": {
        "id": "LncMHKEnBtGc"
      },
      "execution_count": null,
      "outputs": []
    }
  ]
}